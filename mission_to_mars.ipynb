{
 "cells": [
  {
   "cell_type": "code",
   "execution_count": 1,
   "metadata": {},
   "outputs": [],
   "source": [
    "from bs4 import BeautifulSoup as bs\n",
    "import requests\n",
    "from splinter import Browser\n",
    "import pandas as pd"
   ]
  },
  {
   "cell_type": "markdown",
   "metadata": {},
   "source": [
    "# OPEN BROWSER"
   ]
  },
  {
   "cell_type": "code",
   "execution_count": 2,
   "metadata": {},
   "outputs": [],
   "source": [
    "# @NOTE: Replace the path with your actual path to the chromedriver\n",
    "executable_path = {'executable_path': 'chromedriver.exe'}\n",
    "browser = Browser('chrome', **executable_path, headless=False)"
   ]
  },
  {
   "cell_type": "markdown",
   "metadata": {},
   "source": [
    "# NASA MARS NEWS"
   ]
  },
  {
   "cell_type": "code",
   "execution_count": 3,
   "metadata": {},
   "outputs": [
    {
     "name": "stdout",
     "output_type": "stream",
     "text": [
      "Scraping Complete\n",
      "Scraping Complete\n",
      "Scraping Complete\n",
      "Scraping Complete\n",
      "Scraping Complete\n"
     ]
    },
    {
     "data": {
      "text/plain": [
       "{'news_title': 'Landing Day for InSight',\n",
       " 'news_p': \"NASA's InSight spacecraft is on target for Mars landing at around noon PST today.\"}"
      ]
     },
     "execution_count": 3,
     "metadata": {},
     "output_type": "execute_result"
    }
   ],
   "source": [
    "url = \"https://mars.nasa.gov/news/\"\n",
    "browser.visit(url)\n",
    "\n",
    "for x in range(5):\n",
    "    try:\n",
    "        browser.click_link_by_partial_text('MORE')\n",
    "    except:\n",
    "        print(\"Scraping Complete\")\n",
    "\n",
    "html = browser.html\n",
    "soup = bs(html,\"html.parser\")       \n",
    "results = soup.find_all('li',class_='slide')\n",
    "list_mars_news =[]\n",
    "\n",
    "for result in results:\n",
    "    # Error handling\n",
    "    try:\n",
    "        news_title = result.find('div',class_='content_title').text.lstrip().rstrip()\n",
    "        news_p = result.find('div',class_='article_teaser_body').text.lstrip().rstrip()        \n",
    "        dict_result ={\n",
    "            \"news_title\" : news_title,\n",
    "            \"news_p\" : news_p\n",
    "        }\n",
    "        list_mars_news.append(dict_result)\n",
    "    except AttributeError as e:\n",
    "        print(e)\n",
    "        \n",
    "dict_result"
   ]
  },
  {
   "cell_type": "markdown",
   "metadata": {},
   "source": [
    "# JPL MARS SPACE IMAGES - FEATURED IMAGE"
   ]
  },
  {
   "cell_type": "code",
   "execution_count": 4,
   "metadata": {},
   "outputs": [
    {
     "data": {
      "text/plain": [
       "['https://www.jpl.nasa.gov/spaceimages/images/mediumsize/PIA16613_ip.jpg']"
      ]
     },
     "execution_count": 4,
     "metadata": {},
     "output_type": "execute_result"
    }
   ],
   "source": [
    "url = 'https://www.jpl.nasa.gov/spaceimages/?search=&category=Mars'\n",
    "browser.visit(url)\n",
    "\n",
    "html = browser.html\n",
    "soup = bs(html,\"html.parser\")\n",
    "results = \"https://www.jpl.nasa.gov\" + soup.find('div', class_='carousel_items').article.footer.a[\"data-fancybox-href\"]\n",
    "\n",
    "list_mars_images = []\n",
    "list_mars_images.append(results)\n",
    "\n",
    "list_mars_images"
   ]
  },
  {
   "cell_type": "markdown",
   "metadata": {},
   "source": [
    "#  MARS WEATHER"
   ]
  },
  {
   "cell_type": "code",
   "execution_count": 5,
   "metadata": {},
   "outputs": [
    {
     "data": {
      "text/plain": [
       "'InSight sol 156 (2019-05-05) low -99.2ºC (-146.6ºF) high -18.1ºC (-0.6ºF) winds from the SW at 4.7 m/s (10.5 mph) gusting to 13.8 m/s (30.8 mph) pressure at 7.40 hPa'"
      ]
     },
     "execution_count": 5,
     "metadata": {},
     "output_type": "execute_result"
    }
   ],
   "source": [
    "url = \"https://twitter.com/marswxreport?lang=en\"\n",
    "response = requests.get(url)\n",
    "soup = bs(response.text,\"html.parser\")\n",
    "#print(soup.prettify())\n",
    "\n",
    "results = soup.find_all('div', class_='js-tweet-text-container')\n",
    "# print(\" \".join(results[0].p.text.split()[:-1]) + \" hPa\")\n",
    "mars_weather = \" \".join(results[0].p.text.split()[:-1]) + \" hPa\"\n",
    "\n",
    "mars_weather"
   ]
  },
  {
   "cell_type": "markdown",
   "metadata": {},
   "source": [
    "# MARS FACTS"
   ]
  },
  {
   "cell_type": "code",
   "execution_count": 6,
   "metadata": {},
   "outputs": [
    {
     "data": {
      "text/plain": [
       "[{'element': 'Equatorial Diameter:', 'value': '6,792 km'},\n",
       " {'element': 'Polar Diameter:', 'value': '6,752 km'},\n",
       " {'element': 'Mass:', 'value': '6.42 x 10^23 kg (10.7% Earth)'},\n",
       " {'element': 'Moons:', 'value': '2 (Phobos & Deimos)'},\n",
       " {'element': 'Orbit Distance:', 'value': '227,943,824 km (1.52 AU)'},\n",
       " {'element': 'Orbit Period:', 'value': '687 days (1.9 years)'},\n",
       " {'element': 'Surface Temperature:', 'value': '-153 to 20 °C'},\n",
       " {'element': 'First Record:', 'value': '2nd millennium BC'},\n",
       " {'element': 'Recorded By:', 'value': 'Egyptian astronomers'}]"
      ]
     },
     "execution_count": 6,
     "metadata": {},
     "output_type": "execute_result"
    }
   ],
   "source": [
    "url = \"https://space-facts.com/mars/\"\n",
    "tables = pd.read_html(url)\n",
    "html_table = []\n",
    "for item, row in tables[0].iterrows():\n",
    "    dict_xy = {\n",
    "        \"element\": row.iloc[0],\n",
    "        \"value\": row.iloc[1]\n",
    "    }\n",
    "    html_table.append(dict_xy)\n",
    "    \n",
    "html_table"
   ]
  },
  {
   "cell_type": "markdown",
   "metadata": {},
   "source": [
    "# MARS HEMISPHERES"
   ]
  },
  {
   "cell_type": "code",
   "execution_count": 7,
   "metadata": {},
   "outputs": [
    {
     "data": {
      "text/plain": [
       "[{'title': 'Cerberus Hemisphere Enhanced',\n",
       "  'img_url': 'http://astropedia.astrogeology.usgs.gov/download/Mars/Viking/cerberus_enhanced.tif/full.jpg'},\n",
       " {'title': 'Schiaparelli Hemisphere Enhanced',\n",
       "  'img_url': 'http://astropedia.astrogeology.usgs.gov/download/Mars/Viking/schiaparelli_enhanced.tif/full.jpg'},\n",
       " {'title': 'Syrtis Major Hemisphere Enhanced',\n",
       "  'img_url': 'http://astropedia.astrogeology.usgs.gov/download/Mars/Viking/syrtis_major_enhanced.tif/full.jpg'},\n",
       " {'title': 'Valles Marineris Hemisphere Enhanced',\n",
       "  'img_url': 'http://astropedia.astrogeology.usgs.gov/download/Mars/Viking/valles_marineris_enhanced.tif/full.jpg'}]"
      ]
     },
     "execution_count": 7,
     "metadata": {},
     "output_type": "execute_result"
    }
   ],
   "source": [
    "url = \"https://astrogeology.usgs.gov/search/results?q=hemisphere+enhanced&k1=target&v1=Mars\"\n",
    "browser.visit(url)\n",
    "\n",
    "html = browser.html\n",
    "soup = bs(html,\"html.parser\")\n",
    "results = soup.find_all('div', class_='item')\n",
    "hemisphere_image_urls = []\n",
    "for result in results:\n",
    "    try:\n",
    "        x = result.find('div', class_='description')\n",
    "        hemisphere = x.a.text\n",
    "\n",
    "        browser.click_link_by_partial_text(hemisphere)        \n",
    "        html_x = browser.html\n",
    "\n",
    "        soup_x = bs(html_x,\"html.parser\")\n",
    "        link = soup_x.find('div', class_='downloads').find('li').a[\"href\"]\n",
    "        title = soup_x.find('h2', class_='title').text\n",
    "    \n",
    "        hemisphere_image_urls_dict = {\n",
    "            \"title\": title, \n",
    "            \"img_url\":link\n",
    "        }\n",
    "        hemisphere_image_urls.append(hemisphere_image_urls_dict) \n",
    "        browser.visit(url)\n",
    "        \n",
    "    except AttributeError as e:\n",
    "        print('Error:',e)\n",
    "        \n",
    "hemisphere_image_urls"
   ]
  },
  {
   "cell_type": "markdown",
   "metadata": {},
   "source": [
    "# CLOSE BROWSER"
   ]
  },
  {
   "cell_type": "code",
   "execution_count": 8,
   "metadata": {},
   "outputs": [],
   "source": [
    "browser.quit()"
   ]
  },
  {
   "cell_type": "markdown",
   "metadata": {},
   "source": [
    "# CREATE A DICTIONARY WITH ALL THE DATA ACQUIRED"
   ]
  },
  {
   "cell_type": "code",
   "execution_count": 9,
   "metadata": {},
   "outputs": [
    {
     "data": {
      "text/plain": [
       "{'mars_news': [{'news_title': 'For InSight, Dust Cleanings Will Yield New Science',\n",
       "   'news_p': 'Wind can be crucial to clearing dust from spacecraft solar panels on Mars. With InSight\\'s meteorological sensors, scientists get their first measurements of wind and dust interacting \"live\" on the Martian surface.'},\n",
       "  {'news_title': 'InSight Captures Sunrise and Sunset on Mars',\n",
       "   'news_p': \"InSight joins the rest of NASA's Red Planet surface missions, all of which have photographed either the start or end of a Martian day.\"},\n",
       "  {'news_title': 'NASA Social Media and Websites Win Webby Awards',\n",
       "   'news_p': 'NASA\\'s social media presence, the InSight mission social media accounts, NASA.gov and SolarSystem.NASA.gov will be honored at the 2019 Webby Awards - \"the Oscars of the Internet.\"'},\n",
       "  {'news_title': \"NASA's InSight Detects First Likely 'Quake' on Mars\",\n",
       "   'news_p': 'While their causes are still unknown, one of three shaking events looks a lot like the quakes detected on the Moon by the Apollo missions.'},\n",
       "  {'news_title': \"Things Are Stacking up for NASA's Mars 2020 Spacecraft\",\n",
       "   'news_p': 'As the July 2020 launch date inches closer, the next spacecraft headed to the Red Planet is assembled for more testing.'},\n",
       "  {'news_title': \"Curiosity Tastes First Sample in 'Clay-Bearing Unit'\",\n",
       "   'news_p': 'This new region on Mars might reveal more about the role of water on Mount Sharp.'},\n",
       "  {'news_title': \"More Testing for Mars InSight's 'Mole'\",\n",
       "   'news_p': \"After the mission's heat probe began hammering last week, it appears to have hit a rock. The team is analyzing data before they hammer again.\"},\n",
       "  {'news_title': 'NASA Garners 7 Webby Award Nominations',\n",
       "   'news_p': 'Nominees include four JPL projects: the solar system and climate websites, InSight social media, and a 360-degree Earth video. Public voting closes April 18, 2019.'},\n",
       "  {'news_title': 'Curiosity Captured Two Solar Eclipses on Mars',\n",
       "   'news_p': 'Observing the Martian moons Phobos and Deimos crossing in front of the Sun helps scientists better understand their orbits.'},\n",
       "  {'news_title': \"NASA's Mars Helicopter Completes Flight Tests\",\n",
       "   'news_p': 'The first helicopter to fly on Mars had its first flight on Earth.'},\n",
       "  {'news_title': 'Asteroids, Hydrogen Make Great Recipe for Life on Mars',\n",
       "   'news_p': 'Laser blasts in lab tests suggest asteroid bombardment could have provided key ingredients for life on ancient Mars.'},\n",
       "  {'news_title': \"Catch NASA's JPL at the Clippers SciFest This Weekend\",\n",
       "   'news_p': \"Students and families can meet a Mars rover, take a virtual tour through our solar system and explore alien worlds with NASA's Jet Propulsion Laboratory at the Clippers SciFest SoCal.\"},\n",
       "  {'news_title': \"NASA's Mars 2020 Rover Is Put to the Test\",\n",
       "   'news_p': \"In January, Mars 2020 engineers and technicians took over JPL's cleanroom to put the mission's cruise, entry capsule, descent stage and rover through their paces.\"},\n",
       "  {'news_title': \"Opportunity's Parting Shot Was a Beautiful Panorama\",\n",
       "   'news_p': \"NASA declared the record-setting rover's mission complete on Feb. 13, 2019, but the final image from the rover has just been processed.\"},\n",
       "  {'news_title': 'Curiosity Resumes Operations After Switching Computers',\n",
       "   'news_p': \"Curiosity experienced a computer reset on its Side-A computer on Wednesday, March 6, 2019 (Sol 2,339), that triggered the rover's safe mode.\"},\n",
       "  {'news_title': 'InSight Lands Praise and a Proclamation from LA County',\n",
       "   'news_p': 'Several members of the Mars InSight team accepted a proclamation on behalf of the mission from L.A. County Board of Supervisors on Tuesday, Feb. 19.'},\n",
       "  {'news_title': 'InSight Is the Newest Mars Weather Service',\n",
       "   'news_p': \"By collecting data around the clock, NASA's lander will provide unique science about the Martian surface.\"},\n",
       "  {'news_title': \"Six Things to Know About NASA's Opportunity Rover\",\n",
       "   'news_p': \"Opportunity's mission is complete. Here are highlights from its time on Mars.\"},\n",
       "  {'news_title': \"NASA's Opportunity Rover Mission on Mars Comes to End\",\n",
       "   'news_p': \"NASA's Opportunity Mars rover mission is complete after 15 years on Mars. Opportunity's record-breaking exploration laid the groundwork for future missions to the Red Planet.\"},\n",
       "  {'news_title': \"NASA's InSight Prepares to Take Mars' Temperature\",\n",
       "   'news_p': \"The lander's second instrument is on the ground. But its ‘mole’ — a burrowing probe — has a long way to go.\"},\n",
       "  {'news_title': 'NASA to Share Results of Effort to Recover Mars Rover',\n",
       "   'news_p': 'NASA will discuss the status of its Mars Exploration Rover Opportunity in a media briefing at 11 a.m. PST (2 p.m. EST) Wednesday, Feb. 13, from the Jet Propulsion Laboratory.'},\n",
       "  {'news_title': \"NASA's MAVEN Spacecraft Shrinking its Mars Orbit to Prepare for Mars 2020 Rover\",\n",
       "   'news_p': 'The MAVEN spacecraft today is starting a campaign to tighten its orbit around Mars to prepare to serve as a data-relay satellite for NASA’s Mars 2020 rover, which launches next year.'},\n",
       "  {'news_title': '360 Video: Curiosity Rover Departs Vera Rubin Ridge',\n",
       "   'news_p': \"This panorama from the Mast Camera (Mastcam) on NASA's Curiosity Mars rover was taken on Dec. 19 (Sol 2265). The rover's last drill location on Vera Rubin Ridge is visible, as well as the clay region it will spend the next year exploring.\"},\n",
       "  {'news_title': 'Beyond Mars, the Mini MarCO Spacecraft Fall Silent',\n",
       "   'news_p': 'The first CubeSat mission to deep space may have reached their limit, but they could inspire future NASA missions.'},\n",
       "  {'news_title': \"InSight's Seismometer Now Has a Cozy Shelter on Mars\",\n",
       "   'news_p': \"A domed shield has been set over one of InSight's primary science instruments, protecting it from Mars' wind and temperature changes.\"},\n",
       "  {'news_title': '\"Mars Buggy\" Curiosity Measures a Mountain\\'s Gravity',\n",
       "   'news_p': 'Smartphone-like sensors on the NASA rover were used to calculate the density of Mount Sharp, offering new clues to its formation.'},\n",
       "  {'news_title': \"Curiosity Says Farewell to Mars' Vera Rubin Ridge\",\n",
       "   'news_p': \"The Mars rover is moving on and has taken its last selfie on the ridge it's explored for more than a year.\"},\n",
       "  {'news_title': 'Rover Team Beaming New Commands to Opportunity on Mars',\n",
       "   'news_p': 'Engineers at JPL have begun transmitting a new set of commands to Opportunity in an attempt to compel the Mars rover to contact Earth.'},\n",
       "  {'news_title': \"NASA's Opportunity Rover Logs 15 Years on Mars\",\n",
       "   'news_p': 'The rover landed in a region of the Red Planet called Meridiani Planum 16 years ago today, on Jan. 24, 2004.'},\n",
       "  {'news_title': \"NASA's InSight Places First Instrument on Mars\",\n",
       "   'news_p': 'In deploying its first instrument onto the surface of Mars, the lander completes a major mission milestone.'},\n",
       "  {'news_title': 'InSight Engineers Have Made a Martian Rock Garden',\n",
       "   'news_p': \"Reconstructing Mars here on Earth lets them practice setting down the lander's science instruments.\"},\n",
       "  {'news_title': 'Mars InSight Lander Seen in First Images from Space',\n",
       "   'news_p': \"Look closely, and you can make out the lander's solar panels.\"},\n",
       "  {'news_title': \"NASA's InSight Takes Its First Selfie\",\n",
       "   'news_p': 'Two new image mosaics detail the lander\\'s deck and \"workspace\" — the surface where it will eventually set down its science instruments.'},\n",
       "  {'news_title': \"NASA InSight Lander 'Hears' Martian Winds\",\n",
       "   'news_p': 'Vibrations picked up by two spacecraft instruments have provided the first sounds of Martian wind.'},\n",
       "  {'news_title': \"NASA's Mars InSight Flexes Its Arm\",\n",
       "   'news_p': \"Now unstowed, the spacecraft's robotic arm will point a camera located on its elbow and take images of the surroundings.\"},\n",
       "  {'news_title': \"Mars New Home 'a Large Sandbox'\",\n",
       "   'news_p': \"With InSight safely on the surface of Mars, the mission team is busy learning more about the spacecraft's landing site.\"},\n",
       "  {'news_title': 'NASA Hears MarCO CubeSats Loud and Clear from Mars',\n",
       "   'news_p': \"A pair of tiny, experimental spacecraft fulfilled their mission yesterday, relaying back near-real-time data during InSight's landing.\"},\n",
       "  {'news_title': 'InSight Is Catching Rays on Mars',\n",
       "   'news_p': 'The lander has sent data indicating its solar panels are open and receiving sunlight to power its surface operations.'},\n",
       "  {'news_title': 'NASA InSight Lander Arrives on Martian Surface',\n",
       "   'news_p': 'The touchdown marks the eighth time NASA has successfully landed a spacecraft on Mars.'},\n",
       "  {'news_title': 'Landing Day for InSight',\n",
       "   'news_p': \"NASA's InSight spacecraft is on target for Mars landing at around noon PST today.\"}],\n",
       " 'mars_images': ['https://www.jpl.nasa.gov/spaceimages/images/mediumsize/PIA16613_ip.jpg'],\n",
       " 'mars_weather': 'InSight sol 156 (2019-05-05) low -99.2ºC (-146.6ºF) high -18.1ºC (-0.6ºF) winds from the SW at 4.7 m/s (10.5 mph) gusting to 13.8 m/s (30.8 mph) pressure at 7.40 hPa',\n",
       " 'html_table': [{'element': 'Equatorial Diameter:', 'value': '6,792 km'},\n",
       "  {'element': 'Polar Diameter:', 'value': '6,752 km'},\n",
       "  {'element': 'Mass:', 'value': '6.42 x 10^23 kg (10.7% Earth)'},\n",
       "  {'element': 'Moons:', 'value': '2 (Phobos & Deimos)'},\n",
       "  {'element': 'Orbit Distance:', 'value': '227,943,824 km (1.52 AU)'},\n",
       "  {'element': 'Orbit Period:', 'value': '687 days (1.9 years)'},\n",
       "  {'element': 'Surface Temperature:', 'value': '-153 to 20 °C'},\n",
       "  {'element': 'First Record:', 'value': '2nd millennium BC'},\n",
       "  {'element': 'Recorded By:', 'value': 'Egyptian astronomers'}],\n",
       " 'hemisphere_image_urls': [{'title': 'Cerberus Hemisphere Enhanced',\n",
       "   'img_url': 'http://astropedia.astrogeology.usgs.gov/download/Mars/Viking/cerberus_enhanced.tif/full.jpg'},\n",
       "  {'title': 'Schiaparelli Hemisphere Enhanced',\n",
       "   'img_url': 'http://astropedia.astrogeology.usgs.gov/download/Mars/Viking/schiaparelli_enhanced.tif/full.jpg'},\n",
       "  {'title': 'Syrtis Major Hemisphere Enhanced',\n",
       "   'img_url': 'http://astropedia.astrogeology.usgs.gov/download/Mars/Viking/syrtis_major_enhanced.tif/full.jpg'},\n",
       "  {'title': 'Valles Marineris Hemisphere Enhanced',\n",
       "   'img_url': 'http://astropedia.astrogeology.usgs.gov/download/Mars/Viking/valles_marineris_enhanced.tif/full.jpg'}]}"
      ]
     },
     "execution_count": 9,
     "metadata": {},
     "output_type": "execute_result"
    }
   ],
   "source": [
    "mars_dict = {\n",
    "        \"mars_news\" : list_mars_news,\n",
    "        \"mars_images\" : list_mars_images,\n",
    "        \"mars_weather\" : mars_weather,\n",
    "        \"html_table\" : html_table,\n",
    "        \"hemisphere_image_urls\" : hemisphere_image_urls\n",
    "}\n",
    "    \n",
    "mars_dict"
   ]
  }
 ],
 "metadata": {
  "kernelspec": {
   "display_name": "Python 3",
   "language": "python",
   "name": "python3"
  },
  "language_info": {
   "codemirror_mode": {
    "name": "ipython",
    "version": 3
   },
   "file_extension": ".py",
   "mimetype": "text/x-python",
   "name": "python",
   "nbconvert_exporter": "python",
   "pygments_lexer": "ipython3",
   "version": "3.7.3"
  }
 },
 "nbformat": 4,
 "nbformat_minor": 2
}
